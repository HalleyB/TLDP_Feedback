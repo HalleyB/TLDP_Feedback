{
 "cells": [
  {
   "cell_type": "code",
   "execution_count": 1,
   "metadata": {},
   "outputs": [],
   "source": [
    "import pandas as pd\n",
    "import seaborn as sns\n",
    "from sklearn.naive_bayes import MultinomialNB\n",
    "from sklearn.model_selection import train_test_split\n",
    "import pickle\n",
    "from sklearn.feature_extraction.text import TfidfVectorizer"
   ]
  },
  {
   "cell_type": "code",
   "execution_count": 3,
   "metadata": {},
   "outputs": [
    {
     "name": "stdout",
     "output_type": "stream",
     "text": [
      "['Positive' 'Negative' 'Positive']\n",
      "              precision    recall  f1-score   support\n",
      "\n",
      "    Negative       1.00      0.99      0.99       210\n",
      "    Positive       0.99      1.00      0.99       230\n",
      "\n",
      "    accuracy                           0.99       440\n",
      "   macro avg       0.99      0.99      0.99       440\n",
      "weighted avg       0.99      0.99      0.99       440\n",
      "\n"
     ]
    }
   ],
   "source": [
    "import pandas as pd\n",
    "from sklearn.feature_extraction.text import CountVectorizer\n",
    "from sklearn.naive_bayes import MultinomialNB\n",
    "from sklearn.metrics import classification_report\n",
    "\n",
    "# Step 1: Load and preprocess the dataset\n",
    "data = pd.read_csv('train_data.csv')\n",
    "text = data['Word'].values\n",
    "labels = data['Sentiment'].values\n",
    "\n",
    "# Step 2: Convert text data into numerical feature vectors\n",
    "vectorizer = CountVectorizer()\n",
    "features = vectorizer.fit_transform(text)\n",
    "\n",
    "# Step 3: Train the Naive Bayes model\n",
    "nb = MultinomialNB()\n",
    "nb.fit(features, labels)\n",
    "\n",
    "# Step 4: Predict sentiment on new data\n",
    "new_text = [\"I love this movie!\", \"This product is terrible.\", \"The food was delicious.\"]\n",
    "new_features = vectorizer.transform(new_text)\n",
    "new_predictions = nb.predict(new_features)\n",
    "print(new_predictions)\n",
    "\n",
    "# Step 5: Generate the classification report to evaluate the model\n",
    "predictions = nb.predict(features)\n",
    "print(classification_report(labels, predictions))"
   ]
  },
  {
   "cell_type": "code",
   "execution_count": 4,
   "metadata": {},
   "outputs": [
    {
     "name": "stdout",
     "output_type": "stream",
     "text": [
      "<class 'pandas.core.frame.DataFrame'>\n",
      "RangeIndex: 1000 entries, 0 to 999\n",
      "Data columns (total 5 columns):\n",
      " #   Column       Non-Null Count  Dtype \n",
      "---  ------       --------------  ----- \n",
      " 0   feedback_id  1000 non-null   int64 \n",
      " 1   manager_id   1000 non-null   int64 \n",
      " 2   date         1000 non-null   object\n",
      " 3   employee_id  1000 non-null   int64 \n",
      " 4   feedback     1000 non-null   object\n",
      "dtypes: int64(3), object(2)\n",
      "memory usage: 39.2+ KB\n"
     ]
    }
   ],
   "source": [
    "file_name = 'feedback_data.csv'\n",
    "data_frame = pd.read_csv(file_name)\n",
    "data_frame.info()"
   ]
  },
  {
   "cell_type": "code",
   "execution_count": 5,
   "metadata": {},
   "outputs": [
    {
     "data": {
      "text/plain": [
       "<Axes: xlabel='manager_id', ylabel='count'>"
      ]
     },
     "execution_count": 5,
     "metadata": {},
     "output_type": "execute_result"
    },
    {
     "data": {
      "image/png": "[encoded data removed]",
      "text/plain": [
       "<Figure size 640x480 with 1 Axes>"
      ]
     },
     "metadata": {},
     "output_type": "display_data"
    }
   ],
   "source": [
    "manager_counts = data_frame.manager_id.value_counts()\n",
    "manager_df = pd.DataFrame(manager_counts)\n",
    "manager_df = manager_df.reset_index()\n",
    "manager_df.columns = ['manager_id', 'count']\n",
    "sns.barplot(x='manager_id', y='count', data=manager_df)"
   ]
  },
  {
   "cell_type": "code",
   "execution_count": 6,
   "metadata": {},
   "outputs": [],
   "source": [
    "new_text = data_frame.feedback\n",
    "new_features = vectorizer.transform(new_text)\n",
    "new_predictions = nb.predict(new_features)"
   ]
  },
  {
   "cell_type": "code",
   "execution_count": 8,
   "metadata": {},
   "outputs": [
    {
     "name": "stdout",
     "output_type": "stream",
     "text": [
      "          count\n",
      "0              \n",
      "Positive    512\n",
      "Negative    488\n"
     ]
    },
    {
     "data": {
      "text/plain": [
       "<Axes: ylabel='count'>"
      ]
     },
     "execution_count": 8,
     "metadata": {},
     "output_type": "execute_result"
    },
    {
     "data": {
      "image/png": "[encoded data removed]",
      "text/plain": [
       "<Figure size 640x480 with 1 Axes>"
      ]
     },
     "metadata": {},
     "output_type": "display_data"
    }
   ],
   "source": [
    "new_predictions = pd.DataFrame(new_predictions)\n",
    "pred_counts = new_predictions.value_counts()\n",
    "pred_df = pd.DataFrame(pred_counts)\n",
    "pred_df.columns = ['count']\n",
    "print(pred_df)\n",
    "sns.barplot(x=['Positive', 'Negative'], y='count', data=pred_df)"
   ]
  },
  {
   "cell_type": "code",
   "execution_count": null,
   "metadata": {},
   "outputs": [],
   "source": []
  }
 ],
 "metadata": {
  "kernelspec": {
   "display_name": "base",
   "language": "python",
   "name": "python3"
  },
  "language_info": {
   "codemirror_mode": {
    "name": "ipython",
    "version": 3
   },
   "file_extension": ".py",
   "mimetype": "text/x-python",
   "name": "python",
   "nbconvert_exporter": "python",
   "pygments_lexer": "ipython3",
   "version": "3.10.9"
  }
 },
 "nbformat": 4,
 "nbformat_minor": 2
}
