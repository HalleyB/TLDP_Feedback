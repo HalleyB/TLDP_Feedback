{
 "cells": [
  {
   "cell_type": "code",
   "execution_count": 1,
   "metadata": {},
   "outputs": [],
   "source": [
    "import pandas as pd\n",
    "import seaborn as sns\n",
    "from sklearn.naive_bayes import MultinomialNB\n",
    "from sklearn.model_selection import train_test_split\n",
    "from sklearn.feature_extraction.text import CountVectorizer\n",
    "from sklearn.metrics import classification_report\n",
    "import pickle\n",
    "import pymongo"
   ]
  },
  {
   "cell_type": "code",
   "execution_count": 2,
   "metadata": {},
   "outputs": [
    {
     "name": "stdout",
     "output_type": "stream",
     "text": [
      "['Positive' 'Negative' 'Positive']\n",
      "              precision    recall  f1-score   support\n",
      "\n",
      "    Negative       1.00      0.99      0.99       210\n",
      "    Positive       0.99      1.00      0.99       230\n",
      "\n",
      "    accuracy                           0.99       440\n",
      "   macro avg       0.99      0.99      0.99       440\n",
      "weighted avg       0.99      0.99      0.99       440\n",
      "\n"
     ]
    }
   ],
   "source": [
    "import pandas as pd\n",
    "from sklearn.feature_extraction.text import CountVectorizer\n",
    "from sklearn.naive_bayes import MultinomialNB\n",
    "from sklearn.metrics import classification_report\n",
    "\n",
    "# Step 1: Load and preprocess the dataset\n",
    "data = pd.read_csv('train_data.csv')\n",
    "text = data['Word'].values\n",
    "labels = data['Sentiment'].values\n",
    "\n",
    "# Step 2: Convert text data into numerical feature vectors\n",
    "vectorizer = CountVectorizer()\n",
    "features = vectorizer.fit_transform(text)\n",
    "\n",
    "# Step 3: Train the Naive Bayes model\n",
    "nb = MultinomialNB()\n",
    "nb.fit(features, labels)\n",
    "\n",
    "# Step 4: Predict sentiment on new data\n",
    "new_text = [\"I love this movie!\", \"This product is terrible.\", \"The food was delicious.\"]\n",
    "new_features = vectorizer.transform(new_text)\n",
    "new_predictions = nb.predict(new_features)\n",
    "print(new_predictions)\n",
    "\n",
    "# Step 5: Generate the classification report to evaluate the model\n",
    "predictions = nb.predict(features)\n",
    "print(classification_report(labels, predictions))"
   ]
  },
  {
   "cell_type": "code",
   "execution_count": 3,
   "metadata": {},
   "outputs": [
    {
     "data": {
      "text/html": [
       "<div>\n",
       "<style scoped>\n",
       "    .dataframe tbody tr th:only-of-type {\n",
       "        vertical-align: middle;\n",
       "    }\n",
       "\n",
       "    .dataframe tbody tr th {\n",
       "        vertical-align: top;\n",
       "    }\n",
       "\n",
       "    .dataframe thead th {\n",
       "        text-align: right;\n",
       "    }\n",
       "</style>\n",
       "<table border=\"1\" class=\"dataframe\">\n",
       "  <thead>\n",
       "    <tr style=\"text-align: right;\">\n",
       "      <th></th>\n",
       "      <th>feedback_id</th>\n",
       "      <th>manager_id</th>\n",
       "      <th>date</th>\n",
       "      <th>employee_id</th>\n",
       "      <th>feedback</th>\n",
       "      <th>sentiment</th>\n",
       "    </tr>\n",
       "  </thead>\n",
       "  <tbody>\n",
       "    <tr>\n",
       "      <th>0</th>\n",
       "      <td>1</td>\n",
       "      <td>9002</td>\n",
       "      <td>2021-11-24</td>\n",
       "      <td>385</td>\n",
       "      <td>Meritorious outside Deformed strong war should...</td>\n",
       "      <td>Negative</td>\n",
       "    </tr>\n",
       "    <tr>\n",
       "      <th>1</th>\n",
       "      <td>2</td>\n",
       "      <td>9004</td>\n",
       "      <td>2021-05-30</td>\n",
       "      <td>135</td>\n",
       "      <td>Patient next Scream Fetching. Malicious wait R...</td>\n",
       "      <td>Negative</td>\n",
       "    </tr>\n",
       "    <tr>\n",
       "      <th>2</th>\n",
       "      <td>3</td>\n",
       "      <td>9002</td>\n",
       "      <td>2021-10-22</td>\n",
       "      <td>727</td>\n",
       "      <td>Protect Intellectual list store son chair job....</td>\n",
       "      <td>Positive</td>\n",
       "    </tr>\n",
       "    <tr>\n",
       "      <th>3</th>\n",
       "      <td>4</td>\n",
       "      <td>9001</td>\n",
       "      <td>2021-12-12</td>\n",
       "      <td>93</td>\n",
       "      <td>Unwelcome Honorable Objectionable Boring sit H...</td>\n",
       "      <td>Negative</td>\n",
       "    </tr>\n",
       "    <tr>\n",
       "      <th>4</th>\n",
       "      <td>5</td>\n",
       "      <td>9002</td>\n",
       "      <td>2021-06-13</td>\n",
       "      <td>259</td>\n",
       "      <td>Physical Threatening student Clumsy serious Be...</td>\n",
       "      <td>Positive</td>\n",
       "    </tr>\n",
       "  </tbody>\n",
       "</table>\n",
       "</div>"
      ],
      "text/plain": [
       "   feedback_id  manager_id        date  employee_id  \\\n",
       "0            1        9002  2021-11-24          385   \n",
       "1            2        9004  2021-05-30          135   \n",
       "2            3        9002  2021-10-22          727   \n",
       "3            4        9001  2021-12-12           93   \n",
       "4            5        9002  2021-06-13          259   \n",
       "\n",
       "                                            feedback sentiment  \n",
       "0  Meritorious outside Deformed strong war should...  Negative  \n",
       "1  Patient next Scream Fetching. Malicious wait R...  Negative  \n",
       "2  Protect Intellectual list store son chair job....  Positive  \n",
       "3  Unwelcome Honorable Objectionable Boring sit H...  Negative  \n",
       "4  Physical Threatening student Clumsy serious Be...  Positive  "
      ]
     },
     "execution_count": 3,
     "metadata": {},
     "output_type": "execute_result"
    }
   ],
   "source": [
    "myclient = pymongo.MongoClient(\"mongodb://localhost:27017/\")\n",
    "mydb = myclient[\"Feedback\"]\n",
    "mycol = mydb[\"feedback_data\"]\n",
    "myquery = {}\n",
    "\n",
    "feedback_data = mycol.find(myquery)\n",
    "feedback_df = pd.DataFrame(feedback_data)\n",
    "del feedback_df['_id']\n",
    "feedback_df = feedback_df.astype({'feedback': str})\n",
    "feedback_df.head()"
   ]
  },
  {
   "cell_type": "code",
   "execution_count": 4,
   "metadata": {},
   "outputs": [],
   "source": [
    "new_text = feedback_df.feedback\n",
    "new_features = vectorizer.transform(new_text)\n",
    "new_predictions = nb.predict(new_features)\n"
   ]
  },
  {
   "cell_type": "code",
   "execution_count": 5,
   "metadata": {},
   "outputs": [
    {
     "name": "stdout",
     "output_type": "stream",
     "text": [
      "          count\n",
      "0              \n",
      "Positive    512\n",
      "Negative    488\n"
     ]
    }
   ],
   "source": [
    "new_predictions_df = pd.DataFrame(new_predictions)\n",
    "pred_counts = new_predictions_df.value_counts()\n",
    "pred_df = pd.DataFrame(pred_counts)\n",
    "pred_df.columns = ['count']\n",
    "print(pred_df)\n"
   ]
  },
  {
   "cell_type": "code",
   "execution_count": 6,
   "metadata": {},
   "outputs": [
    {
     "data": {
      "text/html": [
       "<div>\n",
       "<style scoped>\n",
       "    .dataframe tbody tr th:only-of-type {\n",
       "        vertical-align: middle;\n",
       "    }\n",
       "\n",
       "    .dataframe tbody tr th {\n",
       "        vertical-align: top;\n",
       "    }\n",
       "\n",
       "    .dataframe thead th {\n",
       "        text-align: right;\n",
       "    }\n",
       "</style>\n",
       "<table border=\"1\" class=\"dataframe\">\n",
       "  <thead>\n",
       "    <tr style=\"text-align: right;\">\n",
       "      <th></th>\n",
       "      <th>feedback_id</th>\n",
       "      <th>manager_id</th>\n",
       "      <th>date</th>\n",
       "      <th>employee_id</th>\n",
       "      <th>feedback</th>\n",
       "      <th>sentiment</th>\n",
       "    </tr>\n",
       "  </thead>\n",
       "  <tbody>\n",
       "    <tr>\n",
       "      <th>0</th>\n",
       "      <td>1</td>\n",
       "      <td>9002</td>\n",
       "      <td>2021-11-24</td>\n",
       "      <td>385</td>\n",
       "      <td>Meritorious outside Deformed strong war should...</td>\n",
       "      <td>Negative</td>\n",
       "    </tr>\n",
       "    <tr>\n",
       "      <th>1</th>\n",
       "      <td>2</td>\n",
       "      <td>9004</td>\n",
       "      <td>2021-05-30</td>\n",
       "      <td>135</td>\n",
       "      <td>Patient next Scream Fetching. Malicious wait R...</td>\n",
       "      <td>Negative</td>\n",
       "    </tr>\n",
       "    <tr>\n",
       "      <th>2</th>\n",
       "      <td>3</td>\n",
       "      <td>9002</td>\n",
       "      <td>2021-10-22</td>\n",
       "      <td>727</td>\n",
       "      <td>Protect Intellectual list store son chair job....</td>\n",
       "      <td>Positive</td>\n",
       "    </tr>\n",
       "    <tr>\n",
       "      <th>3</th>\n",
       "      <td>4</td>\n",
       "      <td>9001</td>\n",
       "      <td>2021-12-12</td>\n",
       "      <td>93</td>\n",
       "      <td>Unwelcome Honorable Objectionable Boring sit H...</td>\n",
       "      <td>Negative</td>\n",
       "    </tr>\n",
       "    <tr>\n",
       "      <th>4</th>\n",
       "      <td>5</td>\n",
       "      <td>9002</td>\n",
       "      <td>2021-06-13</td>\n",
       "      <td>259</td>\n",
       "      <td>Physical Threatening student Clumsy serious Be...</td>\n",
       "      <td>Positive</td>\n",
       "    </tr>\n",
       "  </tbody>\n",
       "</table>\n",
       "</div>"
      ],
      "text/plain": [
       "   feedback_id  manager_id        date  employee_id  \\\n",
       "0            1        9002  2021-11-24          385   \n",
       "1            2        9004  2021-05-30          135   \n",
       "2            3        9002  2021-10-22          727   \n",
       "3            4        9001  2021-12-12           93   \n",
       "4            5        9002  2021-06-13          259   \n",
       "\n",
       "                                            feedback sentiment  \n",
       "0  Meritorious outside Deformed strong war should...  Negative  \n",
       "1  Patient next Scream Fetching. Malicious wait R...  Negative  \n",
       "2  Protect Intellectual list store son chair job....  Positive  \n",
       "3  Unwelcome Honorable Objectionable Boring sit H...  Negative  \n",
       "4  Physical Threatening student Clumsy serious Be...  Positive  "
      ]
     },
     "execution_count": 6,
     "metadata": {},
     "output_type": "execute_result"
    }
   ],
   "source": [
    "feedback_df['sentiment'] = new_predictions\n",
    "feedback_df.head()"
   ]
  },
  {
   "cell_type": "code",
   "execution_count": 7,
   "metadata": {},
   "outputs": [],
   "source": [
    "myclient = pymongo.MongoClient(\"mongodb://localhost:27017/\")\n",
    "mydb = myclient[\"Feedback\"]\n",
    "mycol = mydb[\"feedback_data\"]\n",
    "\n",
    "for x in range(len(feedback_df)):\n",
    "    query = {'feedback_id': x+1}\n",
    "    record = feedback_df.iloc[x].to_dict()\n",
    "    update_record = { '$set': record }\n",
    "    foo = mycol.update_one(query, update_record)"
   ]
  },
  {
   "cell_type": "code",
   "execution_count": 8,
   "metadata": {},
   "outputs": [],
   "source": [
    "file_name = 'sentiment_model.pkl'\n",
    "with open(file_name, 'wb') as file:\n",
    "    pickle.dump(nb, file)"
   ]
  },
  {
   "cell_type": "code",
   "execution_count": null,
   "metadata": {},
   "outputs": [],
   "source": []
  }
 ],
 "metadata": {
  "kernelspec": {
   "display_name": "base",
   "language": "python",
   "name": "python3"
  },
  "language_info": {
   "codemirror_mode": {
    "name": "ipython",
    "version": 3
   },
   "file_extension": ".py",
   "mimetype": "text/x-python",
   "name": "python",
   "nbconvert_exporter": "python",
   "pygments_lexer": "ipython3",
   "version": "3.10.9"
  }
 },
 "nbformat": 4,
 "nbformat_minor": 2
}
